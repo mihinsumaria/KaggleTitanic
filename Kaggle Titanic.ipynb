{
 "cells": [
  {
   "cell_type": "markdown",
   "metadata": {},
   "source": [
    "# Kaggle Competition Titanic - Machine Learning from Disaster "
   ]
  },
  {
   "cell_type": "markdown",
   "metadata": {},
   "source": [
    "### Predicting survival on the Titanic"
   ]
  },
  {
   "cell_type": "markdown",
   "metadata": {},
   "source": [
    "This notebook will be showcasing an ensemble of classification algorithms, used to predict the survival of passengers on the RMS Titanic. Kaggle has provided training and testing datasets, which contain the passengers' information. The data can be found [here](https://www.kaggle.com/c/titanic/data)\n",
    "\n",
    "The passengers' data has the following features:\n",
    "1. **survival**: Survival (0=No, 1=Yes)\n",
    "2. **pclass**: Ticket class (1=1st, 2=2nd, 3=3rd)\n",
    "3. **sex**: Sex\n",
    "4. **Age**: Age in years\n",
    "5. **sibsp**: # of siblings/spouses aboard the Titanic\n",
    "6. **parch**: # of parents/children aboard the Titanic\n",
    "7. **ticket**: Ticket number\n",
    "8. **fare**: Passenger fare\n",
    "9. **cabin**: Cabin number\n",
    "10. **embarked**: Port of Embarkation (C=Cherbourg, Q=Queenstown, S=Southampton)\n",
    "\n",
    "We first import the data using pandas, into a dataframe."
   ]
  },
  {
   "cell_type": "code",
   "execution_count": 21,
   "metadata": {
    "collapsed": false
   },
   "outputs": [
    {
     "data": {
      "text/html": [
       "<div>\n",
       "<table border=\"1\" class=\"dataframe\">\n",
       "  <thead>\n",
       "    <tr style=\"text-align: right;\">\n",
       "      <th></th>\n",
       "      <th>Passenger</th>\n",
       "      <th>Survived</th>\n",
       "      <th>PClass</th>\n",
       "      <th>Name</th>\n",
       "      <th>Sex</th>\n",
       "      <th>Age</th>\n",
       "      <th>SibSp</th>\n",
       "      <th>Parch</th>\n",
       "      <th>Ticket</th>\n",
       "      <th>Fare</th>\n",
       "      <th>Cabin</th>\n",
       "      <th>Embarked</th>\n",
       "    </tr>\n",
       "  </thead>\n",
       "  <tbody>\n",
       "    <tr>\n",
       "      <th>0</th>\n",
       "      <td>1</td>\n",
       "      <td>0</td>\n",
       "      <td>3</td>\n",
       "      <td>Braund, Mr. Owen Harris</td>\n",
       "      <td>male</td>\n",
       "      <td>22.0</td>\n",
       "      <td>1</td>\n",
       "      <td>0</td>\n",
       "      <td>A/5 21171</td>\n",
       "      <td>7.2500</td>\n",
       "      <td>NaN</td>\n",
       "      <td>S</td>\n",
       "    </tr>\n",
       "    <tr>\n",
       "      <th>1</th>\n",
       "      <td>2</td>\n",
       "      <td>1</td>\n",
       "      <td>1</td>\n",
       "      <td>Cumings, Mrs. John Bradley (Florence Briggs Th...</td>\n",
       "      <td>female</td>\n",
       "      <td>38.0</td>\n",
       "      <td>1</td>\n",
       "      <td>0</td>\n",
       "      <td>PC 17599</td>\n",
       "      <td>71.2833</td>\n",
       "      <td>C85</td>\n",
       "      <td>C</td>\n",
       "    </tr>\n",
       "    <tr>\n",
       "      <th>2</th>\n",
       "      <td>3</td>\n",
       "      <td>1</td>\n",
       "      <td>3</td>\n",
       "      <td>Heikkinen, Miss. Laina</td>\n",
       "      <td>female</td>\n",
       "      <td>26.0</td>\n",
       "      <td>0</td>\n",
       "      <td>0</td>\n",
       "      <td>STON/O2. 3101282</td>\n",
       "      <td>7.9250</td>\n",
       "      <td>NaN</td>\n",
       "      <td>S</td>\n",
       "    </tr>\n",
       "    <tr>\n",
       "      <th>3</th>\n",
       "      <td>4</td>\n",
       "      <td>1</td>\n",
       "      <td>1</td>\n",
       "      <td>Futrelle, Mrs. Jacques Heath (Lily May Peel)</td>\n",
       "      <td>female</td>\n",
       "      <td>35.0</td>\n",
       "      <td>1</td>\n",
       "      <td>0</td>\n",
       "      <td>113803</td>\n",
       "      <td>53.1000</td>\n",
       "      <td>C123</td>\n",
       "      <td>S</td>\n",
       "    </tr>\n",
       "    <tr>\n",
       "      <th>4</th>\n",
       "      <td>5</td>\n",
       "      <td>0</td>\n",
       "      <td>3</td>\n",
       "      <td>Allen, Mr. William Henry</td>\n",
       "      <td>male</td>\n",
       "      <td>35.0</td>\n",
       "      <td>0</td>\n",
       "      <td>0</td>\n",
       "      <td>373450</td>\n",
       "      <td>8.0500</td>\n",
       "      <td>NaN</td>\n",
       "      <td>S</td>\n",
       "    </tr>\n",
       "  </tbody>\n",
       "</table>\n",
       "</div>"
      ],
      "text/plain": [
       "   Passenger  Survived  PClass  \\\n",
       "0          1         0       3   \n",
       "1          2         1       1   \n",
       "2          3         1       3   \n",
       "3          4         1       1   \n",
       "4          5         0       3   \n",
       "\n",
       "                                                Name     Sex   Age  SibSp  \\\n",
       "0                            Braund, Mr. Owen Harris    male  22.0      1   \n",
       "1  Cumings, Mrs. John Bradley (Florence Briggs Th...  female  38.0      1   \n",
       "2                             Heikkinen, Miss. Laina  female  26.0      0   \n",
       "3       Futrelle, Mrs. Jacques Heath (Lily May Peel)  female  35.0      1   \n",
       "4                           Allen, Mr. William Henry    male  35.0      0   \n",
       "\n",
       "   Parch            Ticket     Fare Cabin Embarked  \n",
       "0      0         A/5 21171   7.2500   NaN        S  \n",
       "1      0          PC 17599  71.2833   C85        C  \n",
       "2      0  STON/O2. 3101282   7.9250   NaN        S  \n",
       "3      0            113803  53.1000  C123        S  \n",
       "4      0            373450   8.0500   NaN        S  "
      ]
     },
     "execution_count": 21,
     "metadata": {},
     "output_type": "execute_result"
    }
   ],
   "source": [
    "import pandas as pd\n",
    "# Column names are automatically assigned using the names attribute of the read_csv function\n",
    "data=pd.read_csv('data/train_pandas.csv',names=['Passenger','Survived','PClass','Name','Sex','Age','SibSp','Parch','Ticket','Fare','Cabin','Embarked'])\n",
    "# Display first five entries of the dataframe\n",
    "data.head()"
   ]
  },
  {
   "cell_type": "markdown",
   "metadata": {},
   "source": [
    "Some of the features in the above dataset are **irrelevant**, like 'Name','Ticket'. We *drop* these columns from the dataframe."
   ]
  },
  {
   "cell_type": "code",
   "execution_count": 22,
   "metadata": {
    "collapsed": false
   },
   "outputs": [
    {
     "data": {
      "text/html": [
       "<div>\n",
       "<table border=\"1\" class=\"dataframe\">\n",
       "  <thead>\n",
       "    <tr style=\"text-align: right;\">\n",
       "      <th></th>\n",
       "      <th>Passenger</th>\n",
       "      <th>Survived</th>\n",
       "      <th>PClass</th>\n",
       "      <th>Sex</th>\n",
       "      <th>Age</th>\n",
       "      <th>SibSp</th>\n",
       "      <th>Parch</th>\n",
       "      <th>Fare</th>\n",
       "      <th>Cabin</th>\n",
       "      <th>Embarked</th>\n",
       "    </tr>\n",
       "  </thead>\n",
       "  <tbody>\n",
       "    <tr>\n",
       "      <th>0</th>\n",
       "      <td>1</td>\n",
       "      <td>0</td>\n",
       "      <td>3</td>\n",
       "      <td>male</td>\n",
       "      <td>22.0</td>\n",
       "      <td>1</td>\n",
       "      <td>0</td>\n",
       "      <td>7.2500</td>\n",
       "      <td>NaN</td>\n",
       "      <td>S</td>\n",
       "    </tr>\n",
       "    <tr>\n",
       "      <th>1</th>\n",
       "      <td>2</td>\n",
       "      <td>1</td>\n",
       "      <td>1</td>\n",
       "      <td>female</td>\n",
       "      <td>38.0</td>\n",
       "      <td>1</td>\n",
       "      <td>0</td>\n",
       "      <td>71.2833</td>\n",
       "      <td>C85</td>\n",
       "      <td>C</td>\n",
       "    </tr>\n",
       "    <tr>\n",
       "      <th>2</th>\n",
       "      <td>3</td>\n",
       "      <td>1</td>\n",
       "      <td>3</td>\n",
       "      <td>female</td>\n",
       "      <td>26.0</td>\n",
       "      <td>0</td>\n",
       "      <td>0</td>\n",
       "      <td>7.9250</td>\n",
       "      <td>NaN</td>\n",
       "      <td>S</td>\n",
       "    </tr>\n",
       "    <tr>\n",
       "      <th>3</th>\n",
       "      <td>4</td>\n",
       "      <td>1</td>\n",
       "      <td>1</td>\n",
       "      <td>female</td>\n",
       "      <td>35.0</td>\n",
       "      <td>1</td>\n",
       "      <td>0</td>\n",
       "      <td>53.1000</td>\n",
       "      <td>C123</td>\n",
       "      <td>S</td>\n",
       "    </tr>\n",
       "    <tr>\n",
       "      <th>4</th>\n",
       "      <td>5</td>\n",
       "      <td>0</td>\n",
       "      <td>3</td>\n",
       "      <td>male</td>\n",
       "      <td>35.0</td>\n",
       "      <td>0</td>\n",
       "      <td>0</td>\n",
       "      <td>8.0500</td>\n",
       "      <td>NaN</td>\n",
       "      <td>S</td>\n",
       "    </tr>\n",
       "  </tbody>\n",
       "</table>\n",
       "</div>"
      ],
      "text/plain": [
       "   Passenger  Survived  PClass     Sex   Age  SibSp  Parch     Fare Cabin  \\\n",
       "0          1         0       3    male  22.0      1      0   7.2500   NaN   \n",
       "1          2         1       1  female  38.0      1      0  71.2833   C85   \n",
       "2          3         1       3  female  26.0      0      0   7.9250   NaN   \n",
       "3          4         1       1  female  35.0      1      0  53.1000  C123   \n",
       "4          5         0       3    male  35.0      0      0   8.0500   NaN   \n",
       "\n",
       "  Embarked  \n",
       "0        S  \n",
       "1        C  \n",
       "2        S  \n",
       "3        S  \n",
       "4        S  "
      ]
     },
     "execution_count": 22,
     "metadata": {},
     "output_type": "execute_result"
    }
   ],
   "source": [
    "data.drop(['Name','Ticket'],axis=1,inplace=True)\n",
    "data.head()"
   ]
  },
  {
   "cell_type": "markdown",
   "metadata": {},
   "source": [
    "The dataset has certain **missing values** in the columns, 'Age' and 'Fare'. We use **data wrangling** to fill these missing values, with approximated *mean values*. These mean values are computed using 'PClass' and 'Sex'."
   ]
  },
  {
   "cell_type": "code",
   "execution_count": 23,
   "metadata": {
    "collapsed": false
   },
   "outputs": [],
   "source": [
    "# Estimating missing age values for training data\n",
    "# We use numpy to find 'Nan' or missing values\n",
    "import numpy as np\n",
    "# First we compute the mean value of male passengers, for every class.\n",
    "for j in range(1,4):\n",
    "    mean=data[(data['Sex']=='male') & (data['PClass']==j)]['Age'].mean()\n",
    "    for i in data[(data['Sex']=='male') & (data['PClass']==j)]['Age'].index:\n",
    "        if(np.any(np.isnan(data.loc[i,'Age']))):\n",
    "            data.loc[i,'Age']=mean\n",
    "# We, then, compute the mean value of female passengers, for every class.\n",
    "for j in range(1,4):\n",
    "    mean=data[(data['Sex']=='female') & (data['PClass']==j)]['Age'].mean()\n",
    "    for i in data[(data['Sex']=='female') & (data['PClass']==j)]['Age'].index:\n",
    "        if(np.any(np.isnan(data.loc[i,'Age']))):\n",
    "            data.loc[i,'Age']=mean\n"
   ]
  },
  {
   "cell_type": "markdown",
   "metadata": {},
   "source": [
    "Most classification algorithms need **categorical** data. The two features, **'Age' and 'Fare'**, that are in a numerical format, and not a categorical format, need to be categorized. We could either this by dividing the range of values in regular intervals, or we could perform **unsupervised clustering**. Clustering would allow the data to select its own class. We will choose to go with the latter, in this notebook.\n",
    "\n",
    "Now the problem comes when we want to select the number of clusters, so as to make sure that each cluster is distinct from each other, and elements in the same cluster are as identical to each other as possible. We make use of a metric called the **Silhouette Score**, to find out the optimal number of clusters for each feature.\n",
    "\n",
    "Silhouette refers to a method of interpretation and validation of consistency within clusters of data. The silhouette value is a measure of how similar an object is to its own cluster (cohesion) compared to other clusters (separation). The silhouette ranges from -1 to 1, where a high value indicates that the object is well matched to its own cluster and poorly matched to neighboring clusters. If most objects have a high value, then the clustering configuration is appropriate. If many points have a low or negative value, then the clustering configuration may have too many or too few clusters. The silhouette can be calculated with any distance metric, such as the Euclidean distance. [Silhouette Score](https://en.wikipedia.org/wiki/Silhouette_(clustering))"
   ]
  },
  {
   "cell_type": "code",
   "execution_count": 24,
   "metadata": {
    "collapsed": false
   },
   "outputs": [
    {
     "data": {
      "image/png": "[encoded data removed]",
      "text/plain": [
       "<matplotlib.figure.Figure at 0x7faa9c317cd0>"
      ]
     },
     "metadata": {},
     "output_type": "display_data"
    }
   ],
   "source": [
    "import matplotlib.pyplot as plt\n",
    "from sklearn.cluster import KMeans\n",
    "from sklearn.metrics import silhouette_score\n",
    "\n",
    "X=data['Age'].values.reshape(-1,1)\n",
    "Y=data['Fare'].values.reshape(-1,1)\n",
    "\n",
    "# Array to store silhouette scores of age and fare for the range 3 to 9\n",
    "\n",
    "si=[]\n",
    "sj=[]\n",
    "\n",
    "for i in range(3,10):\n",
    "    kmeansi=KMeans(n_clusters=i,random_state=0)\n",
    "    kmeansj=KMeans(n_clusters=i,random_state=0)\n",
    "    kmeansi.fit(X)\n",
    "    kmeansj.fit(Y)\n",
    "    labelsi=kmeansi.labels_\n",
    "    centroidsi=kmeansi.cluster_centers_\n",
    "    labelsj=kmeansj.labels_\n",
    "    centroidsj=kmeansj.cluster_centers_\n",
    "    si.append(silhouette_score(X,labelsi,metric='euclidean'))\n",
    "    sj.append(silhouette_score(Y,labelsj,metric='euclidean'))\n",
    "\n",
    "plt.figure(1)\n",
    "\n",
    "plt.subplot(211)\n",
    "plt.plot(range(3,10),si)\n",
    "plt.ylabel(\"Silouette\")\n",
    "plt.xlabel(\"k\")\n",
    "plt.title(\"Silouette for K-means cell's behaviour (Age)\")\n",
    "\n",
    "plt.subplot(212)\n",
    "plt.plot(range(3,10),sj)\n",
    "plt.ylabel(\"Silouette\")\n",
    "plt.xlabel(\"k\")\n",
    "plt.title(\"Silouette for K-means cell's behaviour (Fare)\")\n",
    "\n",
    "plt.tight_layout()\n",
    "plt.show()\n"
   ]
  },
  {
   "cell_type": "markdown",
   "metadata": {},
   "source": [
    "The above graphs show the silhouette scores for each feature, for number of clusters ranging from 3 to 9. For fare, the highest silhouette scores is visibly the highest for number of clusters = 3. For age, the scores keeps increasing for increasing number of clusters. We now perform clustering on the basis of these results. "
   ]
  },
  {
   "cell_type": "code",
   "execution_count": 40,
   "metadata": {
    "collapsed": false
   },
   "outputs": [
    {
     "data": {
      "image/png": "[encoded data removed]",
      "text/plain": [
       "<matplotlib.figure.Figure at 0x7faa9c04bbd0>"
      ]
     },
     "metadata": {},
     "output_type": "display_data"
    }
   ],
   "source": [
    "import matplotlib.cm as cm\n",
    "\n",
    "# m is number of clusters for age, n is number of clusters for fare\n",
    "m=5\n",
    "n=3\n",
    "\n",
    "colors=cm.rainbow(np.linspace(0,1,m))\n",
    "colors1=cm.rainbow(np.linspace(0,1,n))\n",
    "\n",
    "X=data['Age'].values.reshape(-1,1)\n",
    "Y=data['Fare'].values.reshape(-1,1)\n",
    "\n",
    "\n",
    "kmeans=KMeans(n_clusters=m,random_state=0).fit(X)\n",
    "kmeans1=KMeans(n_clusters=n,random_state=0).fit(Y)\n",
    "\n",
    "data['AnL']=kmeans.labels_\n",
    "data['FnL']=kmeans1.labels_\n",
    "\n",
    "plt.figure(1)\n",
    "\n",
    "plt.subplot(211)\n",
    "for i in range(m):\n",
    "    X=data[data['AnL']==i]['Age'].values.reshape(-1,1)\n",
    "    plt.scatter(X,np.zeros(len(X)),colors[i])\n",
    "    plt.title('Clusters for Age =%d' %m)\n",
    "\n",
    "plt.subplot(212)\n",
    "for i in range(n):\n",
    "    Y=data[data['FnL']==i]['Fare'].values.reshape(-1,1)\n",
    "    plt.scatter(Y,np.zeros(len(Y)),colors1[i])\n",
    "    plt.title('Clusters for Fare = %d' %n)\n",
    "\n",
    "plt.tight_layout()\n",
    "plt.show()"
   ]
  },
  {
   "cell_type": "markdown",
   "metadata": {},
   "source": [
    "Now we need to replace all other features' values, with the appropriate categorical variable.\n",
    "1. For 'Cabin', we replace each entry with '1' or '0', depending on whether they had a cabin or not.\n",
    "2. For 'Embarked', we replace each of the letters with appropriate numbers, as some algorithms do not work with character categorical variable.\n",
    "3. Similarly, for 'Sex', male is replaced by '1', and female by '2'.\n",
    "\n",
    "After categorization, we split the training data into training data (sans the survival), and the corresponding target variable (survival). "
   ]
  },
  {
   "cell_type": "code",
   "execution_count": 41,
   "metadata": {
    "collapsed": false
   },
   "outputs": [
    {
     "name": "stdout",
     "output_type": "stream",
     "text": [
      "   PClass  Sex  AnL  FnL  Cabin  Embarked\n",
      "0       3    1    3    2      0         1\n",
      "1       1    2    4    0      1         3\n",
      "2       3    2    0    2      0         1\n",
      "3       1    2    4    0      1         1\n",
      "4       3    1    4    2      0         1\n",
      "\n",
      "\n",
      "0    0\n",
      "1    1\n",
      "2    1\n",
      "3    1\n",
      "4    0\n",
      "Name: Survived, dtype: int64\n"
     ]
    }
   ],
   "source": [
    "data['Cabin'].fillna(value=0,inplace=True)\n",
    "data['Cabin'].replace(to_replace='\\D*',value=1,inplace=True,regex=True)\n",
    "\n",
    "data['Embarked'].replace(to_replace='S',value=1,inplace=True)\n",
    "data['Embarked'].replace(to_replace='Q',value=2,inplace=True)\n",
    "data['Embarked'].replace(to_replace='C',value=3,inplace=True)\n",
    "\n",
    "data['Sex'].replace(to_replace='male',value=1,inplace=True)\n",
    "data['Sex'].replace(to_replace='female',value=2,inplace=True)\n",
    "\n",
    "training=data[['PClass','Sex','AnL','FnL','Cabin','Embarked']]\n",
    "target=data['Survived']\n",
    "\n",
    "print training.head()\n",
    "print \"\\n\"\n",
    "print target.head()"
   ]
  },
  {
   "cell_type": "markdown",
   "metadata": {},
   "source": [
    "This entire process is now repeated for the testing data as well."
   ]
  },
  {
   "cell_type": "code",
   "execution_count": 42,
   "metadata": {
    "collapsed": false
   },
   "outputs": [],
   "source": [
    "test=pd.read_csv('data/test_pandas.csv',names=['PassengerID','PClass','Name','Sex','Age','SibSp','Parch','Ticket','Fare','Cabin','Embarked'])\n",
    "\n",
    "for j in range(1,4):\n",
    "    mean=test[(test['Sex']=='male') & (test['PClass']==j)]['Age'].mean()\n",
    "    for i in test[(test['Sex']=='male') & (test['PClass']==j)]['Age'].index:\n",
    "        if(np.any(np.isnan(test.loc[i,'Age']))):\n",
    "            test.loc[i,'Age']=mean\n",
    "            \n",
    "for j in range(1,4):\n",
    "    mean=test[(test['Sex']=='female') & (test['PClass']==j)]['Age'].mean()\n",
    "    for i in test[(test['Sex']=='female') & (test['PClass']==j)]['Age'].index:\n",
    "        if(np.any(np.isnan(test.loc[i,'Age']))):\n",
    "            test.loc[i,'Age']=mean\n",
    "\n",
    "X=test['Age'].values.reshape(-1,1)\n",
    "Y=test['Fare'].values.reshape(-1,1)\n",
    "\n",
    "test['AnL']=kmeans.predict(X)\n",
    "test['FnL']=kmeans1.predict(Y)\n",
    "\n",
    "test['Cabin'].fillna(value=0,inplace=True)\n",
    "test['Cabin'].replace(to_replace='\\D*',value=1,inplace=True,regex=True)\n",
    "\n",
    "test['Embarked'].replace(to_replace='S',value=1,inplace=True)\n",
    "test['Embarked'].replace(to_replace='Q',value=2,inplace=True)\n",
    "test['Embarked'].replace(to_replace='C',value=3,inplace=True)\n",
    "\n",
    "test['Sex'].replace(to_replace='male',value=1,inplace=True)\n",
    "test['Sex'].replace(to_replace='female',value=2,inplace=True)\n",
    "\n",
    "testing=test[['PClass','Sex','AnL','FnL','Cabin','Embarked']]\n"
   ]
  },
  {
   "cell_type": "markdown",
   "metadata": {},
   "source": [
    "We now make use of the classification algorithms, to predict the surival values for the testing data. In this notebook, we will make use of the following algorithms:\n",
    "1. Gaussian Naive Bayes [Theory](https://en.wikipedia.org/wiki/Naive_Bayes_classifier#Gaussian_naive_Bayes)\n",
    "2. Iterative Dichotomiser 3 (ID3)[Theory](https://en.wikipedia.org/wiki/ID3_algorithm)\n",
    "3. Random Forest [Theory](https://en.wikipedia.org/wiki/Random_forest)\n",
    "\n",
    "We make use of the sklearn package [Documentation](http://scikit-learn.org/stable/supervised_learning.html#supervised-learning)"
   ]
  },
  {
   "cell_type": "code",
   "execution_count": 43,
   "metadata": {
    "collapsed": true
   },
   "outputs": [],
   "source": [
    "from sklearn.naive_bayes import GaussianNB\n",
    "from sklearn.ensemble import RandomForestClassifier\n",
    "from sklearn import tree\n",
    "\n",
    "gnb=GaussianNB()\n",
    "testpred=gnb.fit(training,target).predict(testing)\n",
    "test['Survived']=testpred\n",
    "test[['PassengerID','Survived']].to_csv('NaiveBayes.csv',index=False)\n",
    "\n",
    "rfc=RandomForestClassifier()\n",
    "testpred=rfc.fit(training,target).predict(testing)\n",
    "test['Survived']=testpred\n",
    "test[['PassengerID','Survived']].to_csv('RandomForest.csv',index=False)\n",
    "\n",
    "clf=tree.DecisionTreeClassifier()\n",
    "testpred=clf.fit(training,target).predict(testing)\n",
    "test['Survived']=testpred\n",
    "test[['PassengerID','Survived']].to_csv('ID3.csv',index=False)"
   ]
  },
  {
   "cell_type": "markdown",
   "metadata": {},
   "source": [
    "Now all that is left to experiment with the number of clusters, and submit the resulting predictions (CSV files) to Kaggle. \n",
    "\n",
    "<img src=\"Kaggle.png\">\n",
    "\n",
    "Following are the results obtained:\n",
    "\n",
    "Gaussian Naive Bayes\n",
    "\n",
    "- Clusters (Age) = 4, Clusters(Fare) = 3, 0.70335.\n",
    "- Clusters (Age) = 3, Clusters(Fare) = 2, 0.74641.\n",
    "- Clusters (Age) = 5, Clusters(Fare) = 3, 0.71292.\n",
    "\n",
    "Iterative Dichotomiser 3 (ID3)\n",
    "\n",
    "- Clusters (Age) = 4, Clusters(Fare) = 3, 0.78469.\n",
    "- Clusters (Age) = 3, Clusters(Fare) = 2, 0.77512.\n",
    "- Clusters (Age) = 5, Clusters(Fare) = 3, 0.78469.\n",
    "\n",
    "Random Forest\n",
    "\n",
    "- Clusters (Age) = 4, Clusters(Fare) = 3, 0.77512.\n",
    "- Clusters (Age) = 3, Clusters(Fare) = 2, 0.77033.\n",
    "- Clusters (Age) = 5, Clusters(Fare) = 3, 0.76555.\n",
    "    \n",
    "Below is a graphical comparison of the algorithms.\n",
    "\n",
    "<img src=\"AlgoComparison.png\">\n",
    "\n",
    "Visibly, ID3 algorithm consistently gives better performance over the other two."
   ]
  }
 ],
 "metadata": {
  "kernelspec": {
   "display_name": "Python 2",
   "language": "python",
   "name": "python2"
  },
  "language_info": {
   "codemirror_mode": {
    "name": "ipython",
    "version": 2
   },
   "file_extension": ".py",
   "mimetype": "text/x-python",
   "name": "python",
   "nbconvert_exporter": "python",
   "pygments_lexer": "ipython2",
   "version": "2.7.13"
  }
 },
 "nbformat": 4,
 "nbformat_minor": 2
}
